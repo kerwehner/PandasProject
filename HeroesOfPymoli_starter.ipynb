{
 "cells": [
  {
   "cell_type": "markdown",
   "metadata": {},
   "source": [
    "### Note\n",
    "* Instructions have been included for each segment. You do not have to follow them exactly, but they are included to help you think through the steps."
   ]
  },
  {
   "cell_type": "code",
   "execution_count": 3,
   "metadata": {},
   "outputs": [
    {
     "data": {
      "text/html": [
       "<div>\n",
       "<style scoped>\n",
       "    .dataframe tbody tr th:only-of-type {\n",
       "        vertical-align: middle;\n",
       "    }\n",
       "\n",
       "    .dataframe tbody tr th {\n",
       "        vertical-align: top;\n",
       "    }\n",
       "\n",
       "    .dataframe thead th {\n",
       "        text-align: right;\n",
       "    }\n",
       "</style>\n",
       "<table border=\"1\" class=\"dataframe\">\n",
       "  <thead>\n",
       "    <tr style=\"text-align: right;\">\n",
       "      <th></th>\n",
       "      <th>Purchase ID</th>\n",
       "      <th>SN</th>\n",
       "      <th>Age</th>\n",
       "      <th>Gender</th>\n",
       "      <th>Item ID</th>\n",
       "      <th>Item Name</th>\n",
       "      <th>Price</th>\n",
       "    </tr>\n",
       "  </thead>\n",
       "  <tbody>\n",
       "    <tr>\n",
       "      <th>0</th>\n",
       "      <td>0</td>\n",
       "      <td>Lisim78</td>\n",
       "      <td>20</td>\n",
       "      <td>Male</td>\n",
       "      <td>108</td>\n",
       "      <td>Extraction, Quickblade Of Trembling Hands</td>\n",
       "      <td>3.53</td>\n",
       "    </tr>\n",
       "    <tr>\n",
       "      <th>1</th>\n",
       "      <td>1</td>\n",
       "      <td>Lisovynya38</td>\n",
       "      <td>40</td>\n",
       "      <td>Male</td>\n",
       "      <td>143</td>\n",
       "      <td>Frenzied Scimitar</td>\n",
       "      <td>1.56</td>\n",
       "    </tr>\n",
       "    <tr>\n",
       "      <th>2</th>\n",
       "      <td>2</td>\n",
       "      <td>Ithergue48</td>\n",
       "      <td>24</td>\n",
       "      <td>Male</td>\n",
       "      <td>92</td>\n",
       "      <td>Final Critic</td>\n",
       "      <td>4.88</td>\n",
       "    </tr>\n",
       "    <tr>\n",
       "      <th>3</th>\n",
       "      <td>3</td>\n",
       "      <td>Chamassasya86</td>\n",
       "      <td>24</td>\n",
       "      <td>Male</td>\n",
       "      <td>100</td>\n",
       "      <td>Blindscythe</td>\n",
       "      <td>3.27</td>\n",
       "    </tr>\n",
       "    <tr>\n",
       "      <th>4</th>\n",
       "      <td>4</td>\n",
       "      <td>Iskosia90</td>\n",
       "      <td>23</td>\n",
       "      <td>Male</td>\n",
       "      <td>131</td>\n",
       "      <td>Fury</td>\n",
       "      <td>1.44</td>\n",
       "    </tr>\n",
       "    <tr>\n",
       "      <th>...</th>\n",
       "      <td>...</td>\n",
       "      <td>...</td>\n",
       "      <td>...</td>\n",
       "      <td>...</td>\n",
       "      <td>...</td>\n",
       "      <td>...</td>\n",
       "      <td>...</td>\n",
       "    </tr>\n",
       "    <tr>\n",
       "      <th>775</th>\n",
       "      <td>775</td>\n",
       "      <td>Aethedru70</td>\n",
       "      <td>21</td>\n",
       "      <td>Female</td>\n",
       "      <td>60</td>\n",
       "      <td>Wolf</td>\n",
       "      <td>3.54</td>\n",
       "    </tr>\n",
       "    <tr>\n",
       "      <th>776</th>\n",
       "      <td>776</td>\n",
       "      <td>Iral74</td>\n",
       "      <td>21</td>\n",
       "      <td>Male</td>\n",
       "      <td>164</td>\n",
       "      <td>Exiled Doomblade</td>\n",
       "      <td>1.63</td>\n",
       "    </tr>\n",
       "    <tr>\n",
       "      <th>777</th>\n",
       "      <td>777</td>\n",
       "      <td>Yathecal72</td>\n",
       "      <td>20</td>\n",
       "      <td>Male</td>\n",
       "      <td>67</td>\n",
       "      <td>Celeste, Incarnation of the Corrupted</td>\n",
       "      <td>3.46</td>\n",
       "    </tr>\n",
       "    <tr>\n",
       "      <th>778</th>\n",
       "      <td>778</td>\n",
       "      <td>Sisur91</td>\n",
       "      <td>7</td>\n",
       "      <td>Male</td>\n",
       "      <td>92</td>\n",
       "      <td>Final Critic</td>\n",
       "      <td>4.19</td>\n",
       "    </tr>\n",
       "    <tr>\n",
       "      <th>779</th>\n",
       "      <td>779</td>\n",
       "      <td>Ennrian78</td>\n",
       "      <td>24</td>\n",
       "      <td>Male</td>\n",
       "      <td>50</td>\n",
       "      <td>Dawn</td>\n",
       "      <td>4.60</td>\n",
       "    </tr>\n",
       "  </tbody>\n",
       "</table>\n",
       "<p>780 rows × 7 columns</p>\n",
       "</div>"
      ],
      "text/plain": [
       "     Purchase ID             SN  Age  Gender  Item ID  \\\n",
       "0              0        Lisim78   20    Male      108   \n",
       "1              1    Lisovynya38   40    Male      143   \n",
       "2              2     Ithergue48   24    Male       92   \n",
       "3              3  Chamassasya86   24    Male      100   \n",
       "4              4      Iskosia90   23    Male      131   \n",
       "..           ...            ...  ...     ...      ...   \n",
       "775          775     Aethedru70   21  Female       60   \n",
       "776          776         Iral74   21    Male      164   \n",
       "777          777     Yathecal72   20    Male       67   \n",
       "778          778        Sisur91    7    Male       92   \n",
       "779          779      Ennrian78   24    Male       50   \n",
       "\n",
       "                                     Item Name  Price  \n",
       "0    Extraction, Quickblade Of Trembling Hands   3.53  \n",
       "1                            Frenzied Scimitar   1.56  \n",
       "2                                 Final Critic   4.88  \n",
       "3                                  Blindscythe   3.27  \n",
       "4                                         Fury   1.44  \n",
       "..                                         ...    ...  \n",
       "775                                       Wolf   3.54  \n",
       "776                           Exiled Doomblade   1.63  \n",
       "777      Celeste, Incarnation of the Corrupted   3.46  \n",
       "778                               Final Critic   4.19  \n",
       "779                                       Dawn   4.60  \n",
       "\n",
       "[780 rows x 7 columns]"
      ]
     },
     "execution_count": 3,
     "metadata": {},
     "output_type": "execute_result"
    }
   ],
   "source": [
    "# Dependencies and Setup\n",
    "import pandas as pd\n",
    "\n",
    "# File to Load (Remember to Change These)\n",
    "file_to_load = \"Resources/purchase_data.csv\"\n",
    "\n",
    "# Read Purchasing File and store into Pandas data frame\n",
    "purchase_data = pd.read_csv(file_to_load)\n",
    "purchase_data"
   ]
  },
  {
   "cell_type": "markdown",
   "metadata": {},
   "source": [
    "## Player Count"
   ]
  },
  {
   "cell_type": "markdown",
   "metadata": {},
   "source": [
    "* Display the total number of players\n"
   ]
  },
  {
   "cell_type": "code",
   "execution_count": 4,
   "metadata": {},
   "outputs": [
    {
     "data": {
      "text/plain": [
       "780"
      ]
     },
     "execution_count": 4,
     "metadata": {},
     "output_type": "execute_result"
    }
   ],
   "source": [
    "total_players = purchase_data[\"Purchase ID\"].count()\n",
    "total_players"
   ]
  },
  {
   "cell_type": "markdown",
   "metadata": {},
   "source": [
    "## Purchasing Analysis (Total)"
   ]
  },
  {
   "cell_type": "markdown",
   "metadata": {},
   "source": [
    "* Run basic calculations to obtain number of unique items, average price, etc.\n",
    "\n",
    "\n",
    "* Create a summary data frame to hold the results\n",
    "\n",
    "\n",
    "* Optional: give the displayed data cleaner formatting\n",
    "\n",
    "\n",
    "* Display the summary data frame\n"
   ]
  },
  {
   "cell_type": "code",
   "execution_count": 5,
   "metadata": {
    "scrolled": true
   },
   "outputs": [
    {
     "data": {
      "text/html": [
       "<style  type=\"text/css\" >\n",
       "</style><table id=\"T_efd861b0_2c20_11eb_9011_f45c89c5c52d\" ><thead>    <tr>        <th class=\"blank level0\" ></th>        <th class=\"col_heading level0 col0\" >Number of Unique Items</th>        <th class=\"col_heading level0 col1\" >Average Price</th>        <th class=\"col_heading level0 col2\" >Number of Purchases</th>        <th class=\"col_heading level0 col3\" >Total Revenue</th>    </tr></thead><tbody>\n",
       "                <tr>\n",
       "                        <th id=\"T_efd861b0_2c20_11eb_9011_f45c89c5c52dlevel0_row0\" class=\"row_heading level0 row0\" >0</th>\n",
       "                        <td id=\"T_efd861b0_2c20_11eb_9011_f45c89c5c52drow0_col0\" class=\"data row0 col0\" >179</td>\n",
       "                        <td id=\"T_efd861b0_2c20_11eb_9011_f45c89c5c52drow0_col1\" class=\"data row0 col1\" >$3.05</td>\n",
       "                        <td id=\"T_efd861b0_2c20_11eb_9011_f45c89c5c52drow0_col2\" class=\"data row0 col2\" >780</td>\n",
       "                        <td id=\"T_efd861b0_2c20_11eb_9011_f45c89c5c52drow0_col3\" class=\"data row0 col3\" >$2,379.77</td>\n",
       "            </tr>\n",
       "    </tbody></table>"
      ],
      "text/plain": [
       "<pandas.io.formats.style.Styler at 0x7f966eb376d0>"
      ]
     },
     "execution_count": 5,
     "metadata": {},
     "output_type": "execute_result"
    }
   ],
   "source": [
    "unique_items = len(purchase_data[\"Item Name\"].unique())\n",
    "average_price = round(purchase_data[\"Price\"].mean(),2)\n",
    "purchase_total = purchase_data[\"Item Name\"].count()\n",
    "price_total = purchase_data[\"Price\"].sum()\n",
    "data_summary = pd.DataFrame({\"Number of Unique Items\": [unique_items], \"Average Price\": average_price,\n",
    "                             \"Number of Purchases\": purchase_total, \"Total Revenue\": price_total})\n",
    "data_summary = data_summary.style.format({\"Average Price\": \"${:.2f}\", \"Total Revenue\": \"${:,.2f}\"})\n",
    "data_summary"
   ]
  },
  {
   "cell_type": "markdown",
   "metadata": {},
   "source": [
    "## Gender Demographics"
   ]
  },
  {
   "cell_type": "markdown",
   "metadata": {},
   "source": [
    "* Percentage and Count of Male Players\n",
    "\n",
    "\n",
    "* Percentage and Count of Female Players\n",
    "\n",
    "\n",
    "* Percentage and Count of Other / Non-Disclosed\n",
    "\n",
    "\n"
   ]
  },
  {
   "cell_type": "code",
   "execution_count": 6,
   "metadata": {},
   "outputs": [
    {
     "data": {
      "text/html": [
       "<style  type=\"text/css\" >\n",
       "</style><table id=\"T_f0ced6c6_2c20_11eb_9011_f45c89c5c52d\" ><thead>    <tr>        <th class=\"blank level0\" ></th>        <th class=\"col_heading level0 col0\" >Total Count</th>        <th class=\"col_heading level0 col1\" >Percentage of Players</th>    </tr>    <tr>        <th class=\"index_name level0\" >Gender</th>        <th class=\"blank\" ></th>        <th class=\"blank\" ></th>    </tr></thead><tbody>\n",
       "                <tr>\n",
       "                        <th id=\"T_f0ced6c6_2c20_11eb_9011_f45c89c5c52dlevel0_row0\" class=\"row_heading level0 row0\" >Female</th>\n",
       "                        <td id=\"T_f0ced6c6_2c20_11eb_9011_f45c89c5c52drow0_col0\" class=\"data row0 col0\" >81</td>\n",
       "                        <td id=\"T_f0ced6c6_2c20_11eb_9011_f45c89c5c52drow0_col1\" class=\"data row0 col1\" >10.38%</td>\n",
       "            </tr>\n",
       "            <tr>\n",
       "                        <th id=\"T_f0ced6c6_2c20_11eb_9011_f45c89c5c52dlevel0_row1\" class=\"row_heading level0 row1\" >Male</th>\n",
       "                        <td id=\"T_f0ced6c6_2c20_11eb_9011_f45c89c5c52drow1_col0\" class=\"data row1 col0\" >484</td>\n",
       "                        <td id=\"T_f0ced6c6_2c20_11eb_9011_f45c89c5c52drow1_col1\" class=\"data row1 col1\" >62.05%</td>\n",
       "            </tr>\n",
       "            <tr>\n",
       "                        <th id=\"T_f0ced6c6_2c20_11eb_9011_f45c89c5c52dlevel0_row2\" class=\"row_heading level0 row2\" >Other / Non-Disclosed</th>\n",
       "                        <td id=\"T_f0ced6c6_2c20_11eb_9011_f45c89c5c52drow2_col0\" class=\"data row2 col0\" >11</td>\n",
       "                        <td id=\"T_f0ced6c6_2c20_11eb_9011_f45c89c5c52drow2_col1\" class=\"data row2 col1\" >1.41%</td>\n",
       "            </tr>\n",
       "    </tbody></table>"
      ],
      "text/plain": [
       "<pandas.io.formats.style.Styler at 0x7f9670acb640>"
      ]
     },
     "execution_count": 6,
     "metadata": {},
     "output_type": "execute_result"
    }
   ],
   "source": [
    "# gender_summary.index.name =None\n",
    "gender_data = purchase_data.groupby(\"Gender\")\n",
    "gender_totals = gender_data[\"SN\"].nunique()\n",
    "gender_percent = gender_totals/total_players * 100\n",
    "gender_summary = pd.DataFrame({\"Total Count\": gender_totals, \"Percentage of Players\": gender_percent})\n",
    "gender_summary = gender_summary.style.format({\"Percentage of Players\": \"{:.2f}%\"})\n",
    "gender_summary"
   ]
  },
  {
   "cell_type": "markdown",
   "metadata": {},
   "source": [
    "\n",
    "## Purchasing Analysis (Gender)"
   ]
  },
  {
   "cell_type": "markdown",
   "metadata": {},
   "source": [
    "* Run basic calculations to obtain purchase count, avg. purchase price, avg. purchase total per person etc. by gender\n",
    "\n",
    "\n",
    "\n",
    "\n",
    "* Create a summary data frame to hold the results\n",
    "\n",
    "\n",
    "* Optional: give the displayed data cleaner formatting\n",
    "\n",
    "\n",
    "* Display the summary data frame"
   ]
  },
  {
   "cell_type": "code",
   "execution_count": 7,
   "metadata": {},
   "outputs": [
    {
     "data": {
      "text/html": [
       "<style  type=\"text/css\" >\n",
       "</style><table id=\"T_f1ce296e_2c20_11eb_9011_f45c89c5c52d\" ><thead>    <tr>        <th class=\"blank level0\" ></th>        <th class=\"col_heading level0 col0\" >Purchase Count</th>        <th class=\"col_heading level0 col1\" >Average Purchase Price</th>        <th class=\"col_heading level0 col2\" >Total Purchase Value</th>        <th class=\"col_heading level0 col3\" >Avg Total Purchase per Person</th>    </tr></thead><tbody>\n",
       "                <tr>\n",
       "                        <th id=\"T_f1ce296e_2c20_11eb_9011_f45c89c5c52dlevel0_row0\" class=\"row_heading level0 row0\" >Female</th>\n",
       "                        <td id=\"T_f1ce296e_2c20_11eb_9011_f45c89c5c52drow0_col0\" class=\"data row0 col0\" >113</td>\n",
       "                        <td id=\"T_f1ce296e_2c20_11eb_9011_f45c89c5c52drow0_col1\" class=\"data row0 col1\" >$3.20</td>\n",
       "                        <td id=\"T_f1ce296e_2c20_11eb_9011_f45c89c5c52drow0_col2\" class=\"data row0 col2\" >$361.94</td>\n",
       "                        <td id=\"T_f1ce296e_2c20_11eb_9011_f45c89c5c52drow0_col3\" class=\"data row0 col3\" >$4.47</td>\n",
       "            </tr>\n",
       "            <tr>\n",
       "                        <th id=\"T_f1ce296e_2c20_11eb_9011_f45c89c5c52dlevel0_row1\" class=\"row_heading level0 row1\" >Male</th>\n",
       "                        <td id=\"T_f1ce296e_2c20_11eb_9011_f45c89c5c52drow1_col0\" class=\"data row1 col0\" >652</td>\n",
       "                        <td id=\"T_f1ce296e_2c20_11eb_9011_f45c89c5c52drow1_col1\" class=\"data row1 col1\" >$3.02</td>\n",
       "                        <td id=\"T_f1ce296e_2c20_11eb_9011_f45c89c5c52drow1_col2\" class=\"data row1 col2\" >$1,967.64</td>\n",
       "                        <td id=\"T_f1ce296e_2c20_11eb_9011_f45c89c5c52drow1_col3\" class=\"data row1 col3\" >$4.07</td>\n",
       "            </tr>\n",
       "            <tr>\n",
       "                        <th id=\"T_f1ce296e_2c20_11eb_9011_f45c89c5c52dlevel0_row2\" class=\"row_heading level0 row2\" >Other / Non-Disclosed</th>\n",
       "                        <td id=\"T_f1ce296e_2c20_11eb_9011_f45c89c5c52drow2_col0\" class=\"data row2 col0\" >15</td>\n",
       "                        <td id=\"T_f1ce296e_2c20_11eb_9011_f45c89c5c52drow2_col1\" class=\"data row2 col1\" >$3.35</td>\n",
       "                        <td id=\"T_f1ce296e_2c20_11eb_9011_f45c89c5c52drow2_col2\" class=\"data row2 col2\" >$50.19</td>\n",
       "                        <td id=\"T_f1ce296e_2c20_11eb_9011_f45c89c5c52drow2_col3\" class=\"data row2 col3\" >$4.56</td>\n",
       "            </tr>\n",
       "    </tbody></table>"
      ],
      "text/plain": [
       "<pandas.io.formats.style.Styler at 0x7f9670e09400>"
      ]
     },
     "execution_count": 7,
     "metadata": {},
     "output_type": "execute_result"
    }
   ],
   "source": [
    "purchase_count = purchase_data[\"Gender\"].value_counts()\n",
    "average_price = gender_data[\"Price\"].mean()\n",
    "purchase_per_person = gender_data[\"Price\"].sum()\n",
    "average_purchase = round(purchase_per_person/gender_totals,2)\n",
    "purchase_analysis = pd.DataFrame({\"Purchase Count\": purchase_count, \"Average Purchase Price\": average_price,\n",
    "                                 \"Total Purchase Value\": purchase_per_person, \"Avg Total Purchase per Person\": average_purchase})\n",
    "purchase_analysis = purchase_analysis.style.format({\"Average Purchase Price\": \"${:.2f}\", \"Total Purchase Value\": \"${:,.2f}\", \"Avg Total Purchase per Person\": \"${:.2f}\"})\n",
    "purchase_analysis"
   ]
  },
  {
   "cell_type": "markdown",
   "metadata": {},
   "source": [
    "## Age Demographics"
   ]
  },
  {
   "cell_type": "markdown",
   "metadata": {},
   "source": [
    "* Establish bins for ages\n",
    "\n",
    "\n",
    "* Categorize the existing players using the age bins. Hint: use pd.cut()\n",
    "\n",
    "\n",
    "* Calculate the numbers and percentages by age group\n",
    "\n",
    "\n",
    "* Create a summary data frame to hold the results\n",
    "\n",
    "\n",
    "* Optional: round the percentage column to two decimal points\n",
    "\n",
    "\n",
    "* Display Age Demographics Table\n"
   ]
  },
  {
   "cell_type": "code",
   "execution_count": 8,
   "metadata": {},
   "outputs": [
    {
     "data": {
      "text/html": [
       "<style  type=\"text/css\" >\n",
       "</style><table id=\"T_f3148566_2c20_11eb_9011_f45c89c5c52d\" ><thead>    <tr>        <th class=\"blank level0\" ></th>        <th class=\"col_heading level0 col0\" >Total Count</th>        <th class=\"col_heading level0 col1\" >Percentage of Players</th>    </tr></thead><tbody>\n",
       "                <tr>\n",
       "                        <th id=\"T_f3148566_2c20_11eb_9011_f45c89c5c52dlevel0_row0\" class=\"row_heading level0 row0\" ><10</th>\n",
       "                        <td id=\"T_f3148566_2c20_11eb_9011_f45c89c5c52drow0_col0\" class=\"data row0 col0\" >17</td>\n",
       "                        <td id=\"T_f3148566_2c20_11eb_9011_f45c89c5c52drow0_col1\" class=\"data row0 col1\" >2.18%</td>\n",
       "            </tr>\n",
       "            <tr>\n",
       "                        <th id=\"T_f3148566_2c20_11eb_9011_f45c89c5c52dlevel0_row1\" class=\"row_heading level0 row1\" >10-14</th>\n",
       "                        <td id=\"T_f3148566_2c20_11eb_9011_f45c89c5c52drow1_col0\" class=\"data row1 col0\" >22</td>\n",
       "                        <td id=\"T_f3148566_2c20_11eb_9011_f45c89c5c52drow1_col1\" class=\"data row1 col1\" >2.82%</td>\n",
       "            </tr>\n",
       "            <tr>\n",
       "                        <th id=\"T_f3148566_2c20_11eb_9011_f45c89c5c52dlevel0_row2\" class=\"row_heading level0 row2\" >15-19</th>\n",
       "                        <td id=\"T_f3148566_2c20_11eb_9011_f45c89c5c52drow2_col0\" class=\"data row2 col0\" >107</td>\n",
       "                        <td id=\"T_f3148566_2c20_11eb_9011_f45c89c5c52drow2_col1\" class=\"data row2 col1\" >13.72%</td>\n",
       "            </tr>\n",
       "            <tr>\n",
       "                        <th id=\"T_f3148566_2c20_11eb_9011_f45c89c5c52dlevel0_row3\" class=\"row_heading level0 row3\" >20-24</th>\n",
       "                        <td id=\"T_f3148566_2c20_11eb_9011_f45c89c5c52drow3_col0\" class=\"data row3 col0\" >258</td>\n",
       "                        <td id=\"T_f3148566_2c20_11eb_9011_f45c89c5c52drow3_col1\" class=\"data row3 col1\" >33.08%</td>\n",
       "            </tr>\n",
       "            <tr>\n",
       "                        <th id=\"T_f3148566_2c20_11eb_9011_f45c89c5c52dlevel0_row4\" class=\"row_heading level0 row4\" >25-29</th>\n",
       "                        <td id=\"T_f3148566_2c20_11eb_9011_f45c89c5c52drow4_col0\" class=\"data row4 col0\" >77</td>\n",
       "                        <td id=\"T_f3148566_2c20_11eb_9011_f45c89c5c52drow4_col1\" class=\"data row4 col1\" >9.87%</td>\n",
       "            </tr>\n",
       "            <tr>\n",
       "                        <th id=\"T_f3148566_2c20_11eb_9011_f45c89c5c52dlevel0_row5\" class=\"row_heading level0 row5\" >30-34</th>\n",
       "                        <td id=\"T_f3148566_2c20_11eb_9011_f45c89c5c52drow5_col0\" class=\"data row5 col0\" >52</td>\n",
       "                        <td id=\"T_f3148566_2c20_11eb_9011_f45c89c5c52drow5_col1\" class=\"data row5 col1\" >6.67%</td>\n",
       "            </tr>\n",
       "            <tr>\n",
       "                        <th id=\"T_f3148566_2c20_11eb_9011_f45c89c5c52dlevel0_row6\" class=\"row_heading level0 row6\" >35-39</th>\n",
       "                        <td id=\"T_f3148566_2c20_11eb_9011_f45c89c5c52drow6_col0\" class=\"data row6 col0\" >31</td>\n",
       "                        <td id=\"T_f3148566_2c20_11eb_9011_f45c89c5c52drow6_col1\" class=\"data row6 col1\" >3.97%</td>\n",
       "            </tr>\n",
       "            <tr>\n",
       "                        <th id=\"T_f3148566_2c20_11eb_9011_f45c89c5c52dlevel0_row7\" class=\"row_heading level0 row7\" >40-44</th>\n",
       "                        <td id=\"T_f3148566_2c20_11eb_9011_f45c89c5c52drow7_col0\" class=\"data row7 col0\" >11</td>\n",
       "                        <td id=\"T_f3148566_2c20_11eb_9011_f45c89c5c52drow7_col1\" class=\"data row7 col1\" >1.41%</td>\n",
       "            </tr>\n",
       "            <tr>\n",
       "                        <th id=\"T_f3148566_2c20_11eb_9011_f45c89c5c52dlevel0_row8\" class=\"row_heading level0 row8\" >45-49</th>\n",
       "                        <td id=\"T_f3148566_2c20_11eb_9011_f45c89c5c52drow8_col0\" class=\"data row8 col0\" >1</td>\n",
       "                        <td id=\"T_f3148566_2c20_11eb_9011_f45c89c5c52drow8_col1\" class=\"data row8 col1\" >0.13%</td>\n",
       "            </tr>\n",
       "    </tbody></table>"
      ],
      "text/plain": [
       "<pandas.io.formats.style.Styler at 0x7f966eb37a60>"
      ]
     },
     "execution_count": 8,
     "metadata": {},
     "output_type": "execute_result"
    }
   ],
   "source": [
    "bins = [0, 9.90, 14.90, 19.90, 24.90, 29.90, 34.90, 39.90, 44.90, 49.90]\n",
    "names = [\"<10\", \"10-14\", \"15-19\", \"20-24\", \"25-29\", \"30-34\", \"35-39\", \"40-44\", \"45-49\"]\n",
    "purchase_data[\"Age By Group\"] = pd.cut(purchase_data[\"Age\"], bins, labels=names, include_lowest=True)\n",
    "age_group = purchase_data.groupby(\"Age By Group\")\n",
    "age_totals = age_group[\"SN\"].nunique()\n",
    "player_percent = age_totals/total_players * 100\n",
    "age_analysis = pd.DataFrame({\"Total Count\": age_totals, \"Percentage of Players\": player_percent})\n",
    "age_analysis.index.name = None\n",
    "age_analysis = age_analysis.style.format({\"Percentage of Players\": \"{:.2f}%\"})\n",
    "age_analysis"
   ]
  },
  {
   "cell_type": "markdown",
   "metadata": {},
   "source": [
    "## Purchasing Analysis (Age)"
   ]
  },
  {
   "cell_type": "markdown",
   "metadata": {},
   "source": [
    "* Bin the purchase_data data frame by age\n",
    "\n",
    "\n",
    "* Run basic calculations to obtain purchase count, avg. purchase price, avg. purchase total per person etc. in the table below\n",
    "\n",
    "\n",
    "* Create a summary data frame to hold the results\n",
    "\n",
    "\n",
    "* Optional: give the displayed data cleaner formatting\n",
    "\n",
    "\n",
    "* Display the summary data frame"
   ]
  },
  {
   "cell_type": "code",
   "execution_count": 9,
   "metadata": {},
   "outputs": [
    {
     "data": {
      "text/html": [
       "<style  type=\"text/css\" >\n",
       "</style><table id=\"T_f411c280_2c20_11eb_9011_f45c89c5c52d\" ><thead>    <tr>        <th class=\"blank level0\" ></th>        <th class=\"col_heading level0 col0\" >Purchase Count</th>        <th class=\"col_heading level0 col1\" >Average Purchase Price</th>        <th class=\"col_heading level0 col2\" >Total Purchase Value</th>        <th class=\"col_heading level0 col3\" >Avg Total Purchase Per Person</th>    </tr>    <tr>        <th class=\"index_name level0\" >Age Ranges</th>        <th class=\"blank\" ></th>        <th class=\"blank\" ></th>        <th class=\"blank\" ></th>        <th class=\"blank\" ></th>    </tr></thead><tbody>\n",
       "                <tr>\n",
       "                        <th id=\"T_f411c280_2c20_11eb_9011_f45c89c5c52dlevel0_row0\" class=\"row_heading level0 row0\" >10-14</th>\n",
       "                        <td id=\"T_f411c280_2c20_11eb_9011_f45c89c5c52drow0_col0\" class=\"data row0 col0\" >28.000000</td>\n",
       "                        <td id=\"T_f411c280_2c20_11eb_9011_f45c89c5c52drow0_col1\" class=\"data row0 col1\" >$2.96</td>\n",
       "                        <td id=\"T_f411c280_2c20_11eb_9011_f45c89c5c52drow0_col2\" class=\"data row0 col2\" >$82.78</td>\n",
       "                        <td id=\"T_f411c280_2c20_11eb_9011_f45c89c5c52drow0_col3\" class=\"data row0 col3\" >$3.76</td>\n",
       "            </tr>\n",
       "            <tr>\n",
       "                        <th id=\"T_f411c280_2c20_11eb_9011_f45c89c5c52dlevel0_row1\" class=\"row_heading level0 row1\" >15-19</th>\n",
       "                        <td id=\"T_f411c280_2c20_11eb_9011_f45c89c5c52drow1_col0\" class=\"data row1 col0\" >136.000000</td>\n",
       "                        <td id=\"T_f411c280_2c20_11eb_9011_f45c89c5c52drow1_col1\" class=\"data row1 col1\" >$3.04</td>\n",
       "                        <td id=\"T_f411c280_2c20_11eb_9011_f45c89c5c52drow1_col2\" class=\"data row1 col2\" >$412.89</td>\n",
       "                        <td id=\"T_f411c280_2c20_11eb_9011_f45c89c5c52drow1_col3\" class=\"data row1 col3\" >$3.86</td>\n",
       "            </tr>\n",
       "            <tr>\n",
       "                        <th id=\"T_f411c280_2c20_11eb_9011_f45c89c5c52dlevel0_row2\" class=\"row_heading level0 row2\" >20-24</th>\n",
       "                        <td id=\"T_f411c280_2c20_11eb_9011_f45c89c5c52drow2_col0\" class=\"data row2 col0\" >365.000000</td>\n",
       "                        <td id=\"T_f411c280_2c20_11eb_9011_f45c89c5c52drow2_col1\" class=\"data row2 col1\" >$3.05</td>\n",
       "                        <td id=\"T_f411c280_2c20_11eb_9011_f45c89c5c52drow2_col2\" class=\"data row2 col2\" >$1,114.06</td>\n",
       "                        <td id=\"T_f411c280_2c20_11eb_9011_f45c89c5c52drow2_col3\" class=\"data row2 col3\" >$4.32</td>\n",
       "            </tr>\n",
       "            <tr>\n",
       "                        <th id=\"T_f411c280_2c20_11eb_9011_f45c89c5c52dlevel0_row3\" class=\"row_heading level0 row3\" >25-29</th>\n",
       "                        <td id=\"T_f411c280_2c20_11eb_9011_f45c89c5c52drow3_col0\" class=\"data row3 col0\" >101.000000</td>\n",
       "                        <td id=\"T_f411c280_2c20_11eb_9011_f45c89c5c52drow3_col1\" class=\"data row3 col1\" >$2.90</td>\n",
       "                        <td id=\"T_f411c280_2c20_11eb_9011_f45c89c5c52drow3_col2\" class=\"data row3 col2\" >$293.00</td>\n",
       "                        <td id=\"T_f411c280_2c20_11eb_9011_f45c89c5c52drow3_col3\" class=\"data row3 col3\" >$3.81</td>\n",
       "            </tr>\n",
       "            <tr>\n",
       "                        <th id=\"T_f411c280_2c20_11eb_9011_f45c89c5c52dlevel0_row4\" class=\"row_heading level0 row4\" >30-34</th>\n",
       "                        <td id=\"T_f411c280_2c20_11eb_9011_f45c89c5c52drow4_col0\" class=\"data row4 col0\" >73.000000</td>\n",
       "                        <td id=\"T_f411c280_2c20_11eb_9011_f45c89c5c52drow4_col1\" class=\"data row4 col1\" >$2.93</td>\n",
       "                        <td id=\"T_f411c280_2c20_11eb_9011_f45c89c5c52drow4_col2\" class=\"data row4 col2\" >$214.00</td>\n",
       "                        <td id=\"T_f411c280_2c20_11eb_9011_f45c89c5c52drow4_col3\" class=\"data row4 col3\" >$4.12</td>\n",
       "            </tr>\n",
       "            <tr>\n",
       "                        <th id=\"T_f411c280_2c20_11eb_9011_f45c89c5c52dlevel0_row5\" class=\"row_heading level0 row5\" >35-39</th>\n",
       "                        <td id=\"T_f411c280_2c20_11eb_9011_f45c89c5c52drow5_col0\" class=\"data row5 col0\" >41.000000</td>\n",
       "                        <td id=\"T_f411c280_2c20_11eb_9011_f45c89c5c52drow5_col1\" class=\"data row5 col1\" >$3.60</td>\n",
       "                        <td id=\"T_f411c280_2c20_11eb_9011_f45c89c5c52drow5_col2\" class=\"data row5 col2\" >$147.67</td>\n",
       "                        <td id=\"T_f411c280_2c20_11eb_9011_f45c89c5c52drow5_col3\" class=\"data row5 col3\" >$4.76</td>\n",
       "            </tr>\n",
       "            <tr>\n",
       "                        <th id=\"T_f411c280_2c20_11eb_9011_f45c89c5c52dlevel0_row6\" class=\"row_heading level0 row6\" >40+</th>\n",
       "                        <td id=\"T_f411c280_2c20_11eb_9011_f45c89c5c52drow6_col0\" class=\"data row6 col0\" >13.000000</td>\n",
       "                        <td id=\"T_f411c280_2c20_11eb_9011_f45c89c5c52drow6_col1\" class=\"data row6 col1\" >$2.94</td>\n",
       "                        <td id=\"T_f411c280_2c20_11eb_9011_f45c89c5c52drow6_col2\" class=\"data row6 col2\" >$38.24</td>\n",
       "                        <td id=\"T_f411c280_2c20_11eb_9011_f45c89c5c52drow6_col3\" class=\"data row6 col3\" >$nan</td>\n",
       "            </tr>\n",
       "            <tr>\n",
       "                        <th id=\"T_f411c280_2c20_11eb_9011_f45c89c5c52dlevel0_row7\" class=\"row_heading level0 row7\" >40-44</th>\n",
       "                        <td id=\"T_f411c280_2c20_11eb_9011_f45c89c5c52drow7_col0\" class=\"data row7 col0\" >nan</td>\n",
       "                        <td id=\"T_f411c280_2c20_11eb_9011_f45c89c5c52drow7_col1\" class=\"data row7 col1\" >$nan</td>\n",
       "                        <td id=\"T_f411c280_2c20_11eb_9011_f45c89c5c52drow7_col2\" class=\"data row7 col2\" >$nan</td>\n",
       "                        <td id=\"T_f411c280_2c20_11eb_9011_f45c89c5c52drow7_col3\" class=\"data row7 col3\" >$nan</td>\n",
       "            </tr>\n",
       "            <tr>\n",
       "                        <th id=\"T_f411c280_2c20_11eb_9011_f45c89c5c52dlevel0_row8\" class=\"row_heading level0 row8\" >45-49</th>\n",
       "                        <td id=\"T_f411c280_2c20_11eb_9011_f45c89c5c52drow8_col0\" class=\"data row8 col0\" >nan</td>\n",
       "                        <td id=\"T_f411c280_2c20_11eb_9011_f45c89c5c52drow8_col1\" class=\"data row8 col1\" >$nan</td>\n",
       "                        <td id=\"T_f411c280_2c20_11eb_9011_f45c89c5c52drow8_col2\" class=\"data row8 col2\" >$nan</td>\n",
       "                        <td id=\"T_f411c280_2c20_11eb_9011_f45c89c5c52drow8_col3\" class=\"data row8 col3\" >$nan</td>\n",
       "            </tr>\n",
       "            <tr>\n",
       "                        <th id=\"T_f411c280_2c20_11eb_9011_f45c89c5c52dlevel0_row9\" class=\"row_heading level0 row9\" ><10</th>\n",
       "                        <td id=\"T_f411c280_2c20_11eb_9011_f45c89c5c52drow9_col0\" class=\"data row9 col0\" >23.000000</td>\n",
       "                        <td id=\"T_f411c280_2c20_11eb_9011_f45c89c5c52drow9_col1\" class=\"data row9 col1\" >$3.35</td>\n",
       "                        <td id=\"T_f411c280_2c20_11eb_9011_f45c89c5c52drow9_col2\" class=\"data row9 col2\" >$77.13</td>\n",
       "                        <td id=\"T_f411c280_2c20_11eb_9011_f45c89c5c52drow9_col3\" class=\"data row9 col3\" >$4.54</td>\n",
       "            </tr>\n",
       "    </tbody></table>"
      ],
      "text/plain": [
       "<pandas.io.formats.style.Styler at 0x7f966eb37880>"
      ]
     },
     "execution_count": 9,
     "metadata": {},
     "output_type": "execute_result"
    }
   ],
   "source": [
    "bins = [0, 9.90, 14.90, 19.90, 24.90, 29.90, 34.90, 39.90, 45.90]\n",
    "names = [\"<10\", \"10-14\", \"15-19\", \"20-24\", \"25-29\", \"30-34\", \"35-39\", \"40+\"]\n",
    "purchase_data[\"Age By Group\"] = pd.cut(purchase_data[\"Age\"], bins, labels=names, include_lowest=True)\n",
    "\n",
    "age_group = purchase_data.groupby(\"Age By Group\")\n",
    "purchase_age_count = age_group[\"Age By Group\"].count()\n",
    "average_age_purchase_price = age_group[\"Price\"].mean()\n",
    "total_per_person = age_group[\"Price\"].sum()\n",
    "average_total_per_person = total_per_person/age_totals\n",
    "\n",
    "age_summary = pd.DataFrame({\"Purchase Count\": purchase_age_count, \"Average Purchase Price\": average_age_purchase_price,\n",
    "                            \"Total Purchase Value\": total_per_person, \"Avg Total Purchase Per Person\": average_total_per_person})\n",
    "\n",
    "age_summary = age_summary.style.format({\"Average Purchase Price\": \"${:.2f}\", \"Total Purchase Value\": \"${:,.2f}\",\n",
    "                                        \"Avg Total Purchase Per Person\": \"${:.2f}\"})\n",
    "age_summary.index.name = \"Age Ranges\"\n",
    "age_summary\n"
   ]
  },
  {
   "cell_type": "markdown",
   "metadata": {},
   "source": [
    "## Top Spenders"
   ]
  },
  {
   "cell_type": "markdown",
   "metadata": {},
   "source": [
    "* Run basic calculations to obtain the results in the table below\n",
    "\n",
    "\n",
    "* Create a summary data frame to hold the results\n",
    "\n",
    "\n",
    "* Sort the total purchase value column in descending order\n",
    "\n",
    "\n",
    "* Optional: give the displayed data cleaner formatting\n",
    "\n",
    "\n",
    "* Display a preview of the summary data frame\n",
    "\n"
   ]
  },
  {
   "cell_type": "code",
   "execution_count": 10,
   "metadata": {},
   "outputs": [
    {
     "data": {
      "text/html": [
       "<div>\n",
       "<style scoped>\n",
       "    .dataframe tbody tr th:only-of-type {\n",
       "        vertical-align: middle;\n",
       "    }\n",
       "\n",
       "    .dataframe tbody tr th {\n",
       "        vertical-align: top;\n",
       "    }\n",
       "\n",
       "    .dataframe thead th {\n",
       "        text-align: right;\n",
       "    }\n",
       "</style>\n",
       "<table border=\"1\" class=\"dataframe\">\n",
       "  <thead>\n",
       "    <tr style=\"text-align: right;\">\n",
       "      <th></th>\n",
       "      <th>Purchase Count</th>\n",
       "      <th>Average Purchase Price</th>\n",
       "      <th>Total Purchase Value</th>\n",
       "    </tr>\n",
       "    <tr>\n",
       "      <th>SN</th>\n",
       "      <th></th>\n",
       "      <th></th>\n",
       "      <th></th>\n",
       "    </tr>\n",
       "  </thead>\n",
       "  <tbody>\n",
       "    <tr>\n",
       "      <th>Lisosia93</th>\n",
       "      <td>5</td>\n",
       "      <td>$3.79</td>\n",
       "      <td>$18.96</td>\n",
       "    </tr>\n",
       "    <tr>\n",
       "      <th>Idastidru52</th>\n",
       "      <td>4</td>\n",
       "      <td>$3.86</td>\n",
       "      <td>$15.45</td>\n",
       "    </tr>\n",
       "    <tr>\n",
       "      <th>Chamjask73</th>\n",
       "      <td>3</td>\n",
       "      <td>$4.61</td>\n",
       "      <td>$13.83</td>\n",
       "    </tr>\n",
       "    <tr>\n",
       "      <th>Iral74</th>\n",
       "      <td>4</td>\n",
       "      <td>$3.40</td>\n",
       "      <td>$13.62</td>\n",
       "    </tr>\n",
       "    <tr>\n",
       "      <th>Iskadarya95</th>\n",
       "      <td>3</td>\n",
       "      <td>$4.37</td>\n",
       "      <td>$13.10</td>\n",
       "    </tr>\n",
       "  </tbody>\n",
       "</table>\n",
       "</div>"
      ],
      "text/plain": [
       "             Purchase Count Average Purchase Price Total Purchase Value\n",
       "SN                                                                     \n",
       "Lisosia93                 5                  $3.79               $18.96\n",
       "Idastidru52               4                  $3.86               $15.45\n",
       "Chamjask73                3                  $4.61               $13.83\n",
       "Iral74                    4                  $3.40               $13.62\n",
       "Iskadarya95               3                  $4.37               $13.10"
      ]
     },
     "execution_count": 10,
     "metadata": {},
     "output_type": "execute_result"
    }
   ],
   "source": [
    "\n",
    "user_total = purchase_data.groupby([\"SN\"]).sum()[\"Price\"].rename(\"Total Purchase Value\")\n",
    "user_average = purchase_data.groupby([\"SN\"]).mean()[\"Price\"].rename(\"Average Purchase Price\")\n",
    "user_count = purchase_data.groupby([\"SN\"]).count()[\"Price\"].rename(\"Purchase Count\")\n",
    "\n",
    "user_data = pd.DataFrame({\"Total Purchase Value\": user_total, \"Average Purchase Price\": user_average, \"Purchase Count\": user_count})\n",
    "\n",
    "user_sorted = user_data.sort_values(\"Total Purchase Value\", ascending=False)\n",
    "\n",
    "\n",
    "user_sorted[\"Average Purchase Price\"] = user_sorted[\"Average Purchase Price\"].map(\"${:,.2f}\".format)\n",
    "user_sorted[\"Total Purchase Value\"] = user_sorted[\"Total Purchase Value\"].map(\"${:,.2f}\".format)\n",
    "user_sorted = user_sorted.loc[:,[\"Purchase Count\", \"Average Purchase Price\", \"Total Purchase Value\"]]\n",
    "\n",
    "user_sorted.head(5)"
   ]
  },
  {
   "cell_type": "markdown",
   "metadata": {},
   "source": [
    "## Most Popular Items"
   ]
  },
  {
   "cell_type": "markdown",
   "metadata": {},
   "source": [
    "* Retrieve the Item ID, Item Name, and Item Price columns\n",
    "\n",
    "\n",
    "* Group by Item ID and Item Name. Perform calculations to obtain purchase count, average item price, and total purchase value\n",
    "\n",
    "\n",
    "* Create a summary data frame to hold the results\n",
    "\n",
    "\n",
    "* Sort the purchase count column in descending order\n",
    "\n",
    "\n",
    "* Optional: give the displayed data cleaner formatting\n",
    "\n",
    "\n",
    "* Display a preview of the summary data frame\n",
    "\n"
   ]
  },
  {
   "cell_type": "code",
   "execution_count": 11,
   "metadata": {},
   "outputs": [
    {
     "data": {
      "text/html": [
       "<style  type=\"text/css\" >\n",
       "</style><table id=\"T_334b3172_2b84_11eb_917f_f45c89c5c52d\" ><thead>    <tr>        <th class=\"blank\" ></th>        <th class=\"blank level0\" ></th>        <th class=\"col_heading level0 col0\" >Purchase Count</th>        <th class=\"col_heading level0 col1\" >Item Price</th>        <th class=\"col_heading level0 col2\" >Total Purchase Value</th>    </tr>    <tr>        <th class=\"index_name level0\" >Item ID</th>        <th class=\"index_name level1\" >Item Name</th>        <th class=\"blank\" ></th>        <th class=\"blank\" ></th>        <th class=\"blank\" ></th>    </tr></thead><tbody>\n",
       "                <tr>\n",
       "                        <th id=\"T_334b3172_2b84_11eb_917f_f45c89c5c52dlevel0_row0\" class=\"row_heading level0 row0\" >92</th>\n",
       "                        <th id=\"T_334b3172_2b84_11eb_917f_f45c89c5c52dlevel1_row0\" class=\"row_heading level1 row0\" >Final Critic</th>\n",
       "                        <td id=\"T_334b3172_2b84_11eb_917f_f45c89c5c52drow0_col0\" class=\"data row0 col0\" >13</td>\n",
       "                        <td id=\"T_334b3172_2b84_11eb_917f_f45c89c5c52drow0_col1\" class=\"data row0 col1\" >$4.61</td>\n",
       "                        <td id=\"T_334b3172_2b84_11eb_917f_f45c89c5c52drow0_col2\" class=\"data row0 col2\" >$59.99</td>\n",
       "            </tr>\n",
       "            <tr>\n",
       "                        <th id=\"T_334b3172_2b84_11eb_917f_f45c89c5c52dlevel0_row1\" class=\"row_heading level0 row1\" >178</th>\n",
       "                        <th id=\"T_334b3172_2b84_11eb_917f_f45c89c5c52dlevel1_row1\" class=\"row_heading level1 row1\" >Oathbreaker, Last Hope of the Breaking Storm</th>\n",
       "                        <td id=\"T_334b3172_2b84_11eb_917f_f45c89c5c52drow1_col0\" class=\"data row1 col0\" >12</td>\n",
       "                        <td id=\"T_334b3172_2b84_11eb_917f_f45c89c5c52drow1_col1\" class=\"data row1 col1\" >$4.23</td>\n",
       "                        <td id=\"T_334b3172_2b84_11eb_917f_f45c89c5c52drow1_col2\" class=\"data row1 col2\" >$50.76</td>\n",
       "            </tr>\n",
       "            <tr>\n",
       "                        <th id=\"T_334b3172_2b84_11eb_917f_f45c89c5c52dlevel0_row2\" class=\"row_heading level0 row2\" >145</th>\n",
       "                        <th id=\"T_334b3172_2b84_11eb_917f_f45c89c5c52dlevel1_row2\" class=\"row_heading level1 row2\" >Fiery Glass Crusader</th>\n",
       "                        <td id=\"T_334b3172_2b84_11eb_917f_f45c89c5c52drow2_col0\" class=\"data row2 col0\" >9</td>\n",
       "                        <td id=\"T_334b3172_2b84_11eb_917f_f45c89c5c52drow2_col1\" class=\"data row2 col1\" >$4.58</td>\n",
       "                        <td id=\"T_334b3172_2b84_11eb_917f_f45c89c5c52drow2_col2\" class=\"data row2 col2\" >$41.22</td>\n",
       "            </tr>\n",
       "            <tr>\n",
       "                        <th id=\"T_334b3172_2b84_11eb_917f_f45c89c5c52dlevel0_row3\" class=\"row_heading level0 row3\" >132</th>\n",
       "                        <th id=\"T_334b3172_2b84_11eb_917f_f45c89c5c52dlevel1_row3\" class=\"row_heading level1 row3\" >Persuasion</th>\n",
       "                        <td id=\"T_334b3172_2b84_11eb_917f_f45c89c5c52drow3_col0\" class=\"data row3 col0\" >9</td>\n",
       "                        <td id=\"T_334b3172_2b84_11eb_917f_f45c89c5c52drow3_col1\" class=\"data row3 col1\" >$3.22</td>\n",
       "                        <td id=\"T_334b3172_2b84_11eb_917f_f45c89c5c52drow3_col2\" class=\"data row3 col2\" >$28.99</td>\n",
       "            </tr>\n",
       "            <tr>\n",
       "                        <th id=\"T_334b3172_2b84_11eb_917f_f45c89c5c52dlevel0_row4\" class=\"row_heading level0 row4\" >108</th>\n",
       "                        <th id=\"T_334b3172_2b84_11eb_917f_f45c89c5c52dlevel1_row4\" class=\"row_heading level1 row4\" >Extraction, Quickblade Of Trembling Hands</th>\n",
       "                        <td id=\"T_334b3172_2b84_11eb_917f_f45c89c5c52drow4_col0\" class=\"data row4 col0\" >9</td>\n",
       "                        <td id=\"T_334b3172_2b84_11eb_917f_f45c89c5c52drow4_col1\" class=\"data row4 col1\" >$3.53</td>\n",
       "                        <td id=\"T_334b3172_2b84_11eb_917f_f45c89c5c52drow4_col2\" class=\"data row4 col2\" >$31.77</td>\n",
       "            </tr>\n",
       "    </tbody></table>"
      ],
      "text/plain": [
       "<pandas.io.formats.style.Styler at 0x7ff5da57b580>"
      ]
     },
     "execution_count": 11,
     "metadata": {},
     "output_type": "execute_result"
    }
   ],
   "source": [
    "grouped_items = purchase_data.groupby([\"Item ID\", \"Item Name\"])\n",
    "purchase_count = grouped_items.count()[\"Purchase ID\"]\n",
    "average_purchase = grouped_items.mean()[\"Price\"]\n",
    "total_purchase = grouped_items.sum()[\"Price\"]\n",
    "popular_items = pd.DataFrame({\"Purchase Count\": purchase_count, \"Item Price\": average_purchase, \"Total Purchase Value\": total_purchase})\n",
    "popular_items = popular_items.sort_values(\"Purchase Count\", ascending=False).head()\n",
    "popular_items = popular_items.style.format({\"Item Price\": \"${:.2f}\", \"Total Purchase Value\": \"${:.2f}\"})\n",
    "popular_items"
   ]
  },
  {
   "cell_type": "markdown",
   "metadata": {},
   "source": [
    "## Most Profitable Items"
   ]
  },
  {
   "cell_type": "markdown",
   "metadata": {},
   "source": [
    "* Sort the above table by total purchase value in descending order\n",
    "\n",
    "\n",
    "* Optional: give the displayed data cleaner formatting\n",
    "\n",
    "\n",
    "* Display a preview of the data frame\n",
    "\n"
   ]
  },
  {
   "cell_type": "code",
   "execution_count": 12,
   "metadata": {
    "scrolled": true
   },
   "outputs": [
    {
     "data": {
      "text/html": [
       "<style  type=\"text/css\" >\n",
       "</style><table id=\"T_3543dac4_2b84_11eb_917f_f45c89c5c52d\" ><thead>    <tr>        <th class=\"blank\" ></th>        <th class=\"blank level0\" ></th>        <th class=\"col_heading level0 col0\" >Purchase Count</th>        <th class=\"col_heading level0 col1\" >Item Price</th>        <th class=\"col_heading level0 col2\" >Total Purchase Value</th>    </tr>    <tr>        <th class=\"index_name level0\" >Item ID</th>        <th class=\"index_name level1\" >Item Name</th>        <th class=\"blank\" ></th>        <th class=\"blank\" ></th>        <th class=\"blank\" ></th>    </tr></thead><tbody>\n",
       "                <tr>\n",
       "                        <th id=\"T_3543dac4_2b84_11eb_917f_f45c89c5c52dlevel0_row0\" class=\"row_heading level0 row0\" >92</th>\n",
       "                        <th id=\"T_3543dac4_2b84_11eb_917f_f45c89c5c52dlevel1_row0\" class=\"row_heading level1 row0\" >Final Critic</th>\n",
       "                        <td id=\"T_3543dac4_2b84_11eb_917f_f45c89c5c52drow0_col0\" class=\"data row0 col0\" >13</td>\n",
       "                        <td id=\"T_3543dac4_2b84_11eb_917f_f45c89c5c52drow0_col1\" class=\"data row0 col1\" >$4.61</td>\n",
       "                        <td id=\"T_3543dac4_2b84_11eb_917f_f45c89c5c52drow0_col2\" class=\"data row0 col2\" >$59.99</td>\n",
       "            </tr>\n",
       "            <tr>\n",
       "                        <th id=\"T_3543dac4_2b84_11eb_917f_f45c89c5c52dlevel0_row1\" class=\"row_heading level0 row1\" >178</th>\n",
       "                        <th id=\"T_3543dac4_2b84_11eb_917f_f45c89c5c52dlevel1_row1\" class=\"row_heading level1 row1\" >Oathbreaker, Last Hope of the Breaking Storm</th>\n",
       "                        <td id=\"T_3543dac4_2b84_11eb_917f_f45c89c5c52drow1_col0\" class=\"data row1 col0\" >12</td>\n",
       "                        <td id=\"T_3543dac4_2b84_11eb_917f_f45c89c5c52drow1_col1\" class=\"data row1 col1\" >$4.23</td>\n",
       "                        <td id=\"T_3543dac4_2b84_11eb_917f_f45c89c5c52drow1_col2\" class=\"data row1 col2\" >$50.76</td>\n",
       "            </tr>\n",
       "            <tr>\n",
       "                        <th id=\"T_3543dac4_2b84_11eb_917f_f45c89c5c52dlevel0_row2\" class=\"row_heading level0 row2\" >82</th>\n",
       "                        <th id=\"T_3543dac4_2b84_11eb_917f_f45c89c5c52dlevel1_row2\" class=\"row_heading level1 row2\" >Nirvana</th>\n",
       "                        <td id=\"T_3543dac4_2b84_11eb_917f_f45c89c5c52drow2_col0\" class=\"data row2 col0\" >9</td>\n",
       "                        <td id=\"T_3543dac4_2b84_11eb_917f_f45c89c5c52drow2_col1\" class=\"data row2 col1\" >$4.90</td>\n",
       "                        <td id=\"T_3543dac4_2b84_11eb_917f_f45c89c5c52drow2_col2\" class=\"data row2 col2\" >$44.10</td>\n",
       "            </tr>\n",
       "            <tr>\n",
       "                        <th id=\"T_3543dac4_2b84_11eb_917f_f45c89c5c52dlevel0_row3\" class=\"row_heading level0 row3\" >145</th>\n",
       "                        <th id=\"T_3543dac4_2b84_11eb_917f_f45c89c5c52dlevel1_row3\" class=\"row_heading level1 row3\" >Fiery Glass Crusader</th>\n",
       "                        <td id=\"T_3543dac4_2b84_11eb_917f_f45c89c5c52drow3_col0\" class=\"data row3 col0\" >9</td>\n",
       "                        <td id=\"T_3543dac4_2b84_11eb_917f_f45c89c5c52drow3_col1\" class=\"data row3 col1\" >$4.58</td>\n",
       "                        <td id=\"T_3543dac4_2b84_11eb_917f_f45c89c5c52drow3_col2\" class=\"data row3 col2\" >$41.22</td>\n",
       "            </tr>\n",
       "            <tr>\n",
       "                        <th id=\"T_3543dac4_2b84_11eb_917f_f45c89c5c52dlevel0_row4\" class=\"row_heading level0 row4\" >103</th>\n",
       "                        <th id=\"T_3543dac4_2b84_11eb_917f_f45c89c5c52dlevel1_row4\" class=\"row_heading level1 row4\" >Singed Scalpel</th>\n",
       "                        <td id=\"T_3543dac4_2b84_11eb_917f_f45c89c5c52drow4_col0\" class=\"data row4 col0\" >8</td>\n",
       "                        <td id=\"T_3543dac4_2b84_11eb_917f_f45c89c5c52drow4_col1\" class=\"data row4 col1\" >$4.35</td>\n",
       "                        <td id=\"T_3543dac4_2b84_11eb_917f_f45c89c5c52drow4_col2\" class=\"data row4 col2\" >$34.80</td>\n",
       "            </tr>\n",
       "    </tbody></table>"
      ],
      "text/plain": [
       "<pandas.io.formats.style.Styler at 0x7ff5da57cbb0>"
      ]
     },
     "execution_count": 12,
     "metadata": {},
     "output_type": "execute_result"
    }
   ],
   "source": [
    "grouped_items = purchase_data.groupby([\"Item ID\", \"Item Name\"])\n",
    "purchase_count = grouped_items.count()[\"Purchase ID\"]\n",
    "average_purchase = grouped_items.mean()[\"Price\"]\n",
    "total_purchase = grouped_items.sum()[\"Price\"]\n",
    "most_profitable = pd.DataFrame({\"Purchase Count\": purchase_count, \"Item Price\": average_purchase, \"Total Purchase Value\": total_purchase})\n",
    "most_profitable = most_profitable.sort_values(\"Total Purchase Value\", ascending=False).head()\n",
    "most_profitable = most_profitable.style.format({\"Item Price\": \"${:.2f}\", \"Total Purchase Value\": \"${:.2f}\"})\n",
    "most_profitable"
   ]
  },
  {
   "cell_type": "code",
   "execution_count": null,
   "metadata": {},
   "outputs": [],
   "source": []
  }
 ],
 "metadata": {
  "anaconda-cloud": {},
  "kernel_info": {
   "name": "python3"
  },
  "kernelspec": {
   "display_name": "Python 3",
   "language": "python",
   "name": "python3"
  },
  "language_info": {
   "codemirror_mode": {
    "name": "ipython",
    "version": 3
   },
   "file_extension": ".py",
   "mimetype": "text/x-python",
   "name": "python",
   "nbconvert_exporter": "python",
   "pygments_lexer": "ipython3",
   "version": "3.8.3"
  },
  "latex_envs": {
   "LaTeX_envs_menu_present": true,
   "autoclose": false,
   "autocomplete": true,
   "bibliofile": "biblio.bib",
   "cite_by": "apalike",
   "current_citInitial": 1,
   "eqLabelWithNumbers": true,
   "eqNumInitial": 1,
   "hotkeys": {
    "equation": "Ctrl-E",
    "itemize": "Ctrl-I"
   },
   "labels_anchors": false,
   "latex_user_defs": false,
   "report_style_numbering": false,
   "user_envs_cfg": false
  },
  "nteract": {
   "version": "0.2.0"
  }
 },
 "nbformat": 4,
 "nbformat_minor": 2
}
